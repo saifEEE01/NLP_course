{
  "nbformat": 4,
  "nbformat_minor": 0,
  "metadata": {
    "colab": {
      "provenance": [],
      "gpuType": "T4",
      "authorship_tag": "ABX9TyPoIaOadDbfIk+VDK619KT5",
      "include_colab_link": true
    },
    "kernelspec": {
      "name": "python3",
      "display_name": "Python 3"
    },
    "language_info": {
      "name": "python"
    },
    "accelerator": "GPU"
  },
  "cells": [
    {
      "cell_type": "markdown",
      "metadata": {
        "id": "view-in-github",
        "colab_type": "text"
      },
      "source": [
        "<a href=\"https://colab.research.google.com/github/saifEEE01/NLP_course/blob/main/Exam_2.ipynb\" target=\"_parent\"><img src=\"https://colab.research.google.com/assets/colab-badge.svg\" alt=\"Open In Colab\"/></a>"
      ]
    },
    {
      "cell_type": "code",
      "execution_count": 1,
      "metadata": {
        "id": "wXH8nB_Ox1z3"
      },
      "outputs": [],
      "source": [
        "#Import libraries\n",
        "from sklearn.feature_extraction.text import TfidfVectorizer\n",
        "from sklearn.metrics.pairwise import cosine_similarity\n",
        "import numpy as np\n",
        "import nltk\n",
        "from nltk.tokenize import word_tokenize\n",
        "from nltk.corpus import stopwords\n",
        "import string\n",
        "import collections\n",
        "import re\n",
        "import pandas as pd\n",
        "from sklearn.feature_extraction.text import TfidfVectorizer"
      ]
    },
    {
      "cell_type": "code",
      "source": [
        "#Downloading NLTK data files\n",
        "nltk.download('stopwords')\n",
        "nltk.download('punkt')\n",
        "nltk.download('punkt_tab')\n",
        "stop_words = set(stopwords.words('english'))\n"
      ],
      "metadata": {
        "colab": {
          "base_uri": "https://localhost:8080/"
        },
        "id": "iU0W_E68yEBY",
        "outputId": "84d773d6-9693-4878-b87d-92bbd1fca04e"
      },
      "execution_count": 9,
      "outputs": [
        {
          "output_type": "stream",
          "name": "stderr",
          "text": [
            "[nltk_data] Downloading package stopwords to /root/nltk_data...\n",
            "[nltk_data]   Package stopwords is already up-to-date!\n",
            "[nltk_data] Downloading package punkt to /root/nltk_data...\n",
            "[nltk_data]   Package punkt is already up-to-date!\n",
            "[nltk_data] Downloading package punkt_tab to /root/nltk_data...\n",
            "[nltk_data]   Unzipping tokenizers/punkt_tab.zip.\n"
          ]
        }
      ]
    },
    {
      "cell_type": "code",
      "source": [
        "#Faq file preparation\n",
        "\n",
        "faq_data = {\n",
        "    \"Do you offer delivery?\": \"Yes, we provide delivery service for all orders above 500 BDT.\",\n",
        "    \"What payment methods do you accept?\": \"We accept cash on delivery, bKash, and bank transfer.\",\n",
        "    \"Do you deliver outside of Dhaka?\": \"Currently, we only deliver within Dhaka city.\",\n",
        "    \"What is your operating hour?\": \"We are open from 9 AM to 9 PM, Saturday to Thursday.\",\n",
        "    \"Where are you located?\": \"We are located at 123 Main Road, Dhaka.\",\n",
        "    \"Can I return a product?\": \"You can return a product within 7 days of delivery.\",\n",
        "    \"How can I contact customer support?\": \"You can contact us via email at support@example.com or call 123-456-7890.\"\n",
        "}"
      ],
      "metadata": {
        "id": "gRov_9ERyHyd"
      },
      "execution_count": 3,
      "outputs": []
    },
    {
      "cell_type": "code",
      "source": [
        "#Convert all keys to lowercase for case-insensitive matching\n",
        "faq_data = {n.lower(): p for n, p in faq_data.items()}\n",
        "#Tokenization and vectorization\n",
        "faq_questions = list(faq_data.keys())\n",
        "faq_answers = list(faq_data.values())\n",
        "counter = collections.Counter()\n",
        "maxlen = 0\n",
        "for question in faq_data.keys():\n",
        "    tokens = word_tokenize(question)\n",
        "    filtered_tokens = [word for word in tokens if word.lower() not in stop_words]\n",
        "    counter.update(tokens)\n",
        "    maxlen = max(maxlen, len(tokens))"
      ],
      "metadata": {
        "id": "g87XoB7MyNp1"
      },
      "execution_count": 10,
      "outputs": []
    },
    {
      "cell_type": "code",
      "source": [
        "#TF-IDF vectorization\n",
        "tfidf=TfidfVectorizer(ngram_range=(1,3),use_idf=True,tokenizer=lambda x:x.split()) #trigram use\n",
        "vectorizer = TfidfVectorizer().fit(faq_questions)\n",
        "faq_vectors = vectorizer.transform(faq_questions)"
      ],
      "metadata": {
        "id": "3TxaFcyLy_jF"
      },
      "execution_count": 11,
      "outputs": []
    },
    {
      "cell_type": "code",
      "source": [
        "#Faq answer function\n",
        "def get_faq_answer(user_query: str) -> str:\n",
        "    if not user_query.strip():\n",
        "        return \"Please enter a valid question.\"\n",
        "\n",
        "    # Vectorize user query\n",
        "    query_vec = vectorizer.transform([user_query])\n",
        "    #Compute cosine similarity\n",
        "    similarities = cosine_similarity(query_vec, faq_vectors).flatten()\n",
        "\n",
        "    #Find best match and apply threshold\n",
        "    best_idx = np.argmax(similarities)\n",
        "    best_score = similarities[best_idx]\n",
        "    threshold = 0.6  # Adjust threshold based on testing\n",
        "    if best_score < threshold:\n",
        "        return \"Sorry, I couldn’t find a suitable answer to your question.\"\n",
        "    else:\n",
        "        return faq_data[faq_questions[best_idx]]"
      ],
      "metadata": {
        "id": "_-rlRgs-zB2J"
      },
      "execution_count": 22,
      "outputs": []
    },
    {
      "cell_type": "markdown",
      "source": [],
      "metadata": {
        "id": "1TFH1Le7z1n9"
      }
    },
    {
      "cell_type": "code",
      "source": [
        "#Testing examples\n",
        "if __name__ == \"__main__\":\n",
        "    test_queries = [\n",
        "        \"Do you offer delivery?\",\n",
        "        \"Where are you located?\",\n",
        "        \"Where are you situated?\",\n",
        "        \"Can I return a product?\",\n",
        "        \"Do you sell mobile phones?\",\n",
        "        \"How to contact customer support?\",\n",
        "    ]\n",
        "\n",
        "    for query in test_queries:\n",
        "        print(f\"Q: {query}\")\n",
        "        print(f\"A: {get_faq_answer(query)}\\n\")"
      ],
      "metadata": {
        "colab": {
          "base_uri": "https://localhost:8080/"
        },
        "id": "GeOmzG7Tz7wp",
        "outputId": "c3902a6b-7ca3-4f6a-9ea4-8adc9e635d74"
      },
      "execution_count": 23,
      "outputs": [
        {
          "output_type": "stream",
          "name": "stdout",
          "text": [
            "Q: Do you offer delivery?\n",
            "A: Yes, we provide delivery service for all orders above 500 BDT.\n",
            "\n",
            "Q: Where are you located?\n",
            "A: We are located at 123 Main Road, Dhaka.\n",
            "\n",
            "Q: Where are you situated?\n",
            "A: We are located at 123 Main Road, Dhaka.\n",
            "\n",
            "Q: Can I return a product?\n",
            "A: You can return a product within 7 days of delivery.\n",
            "\n",
            "Q: Do you sell mobile phones?\n",
            "A: Sorry, I couldn’t find a suitable answer to your question.\n",
            "\n",
            "Q: How to contact customer support?\n",
            "A: You can contact us via email at support@example.com or call 123-456-7890.\n",
            "\n"
          ]
        }
      ]
    },
    {
      "cell_type": "code",
      "source": [],
      "metadata": {
        "colab": {
          "base_uri": "https://localhost:8080/",
          "height": 211
        },
        "id": "SjQfc2IPzL8k",
        "outputId": "3092c746-9c41-42bd-da38-b3a0fe0ad500"
      },
      "execution_count": 15,
      "outputs": [
        {
          "output_type": "error",
          "ename": "NameError",
          "evalue": "name 'query_vec' is not defined",
          "traceback": [
            "\u001b[0;31m---------------------------------------------------------------------------\u001b[0m",
            "\u001b[0;31mNameError\u001b[0m                                 Traceback (most recent call last)",
            "\u001b[0;32m<ipython-input-15-c0a829f5ccff>\u001b[0m in \u001b[0;36m<cell line: 0>\u001b[0;34m()\u001b[0m\n\u001b[1;32m      1\u001b[0m \u001b[0;31m#Compute cosine similarity\u001b[0m\u001b[0;34m\u001b[0m\u001b[0;34m\u001b[0m\u001b[0m\n\u001b[0;32m----> 2\u001b[0;31m \u001b[0msimilarities\u001b[0m \u001b[0;34m=\u001b[0m \u001b[0mcosine_similarity\u001b[0m\u001b[0;34m(\u001b[0m\u001b[0mquery_vec\u001b[0m\u001b[0;34m,\u001b[0m \u001b[0mfaq_vectors\u001b[0m\u001b[0;34m)\u001b[0m\u001b[0;34m.\u001b[0m\u001b[0mflatten\u001b[0m\u001b[0;34m(\u001b[0m\u001b[0;34m)\u001b[0m\u001b[0;34m\u001b[0m\u001b[0;34m\u001b[0m\u001b[0m\n\u001b[0m\u001b[1;32m      3\u001b[0m \u001b[0;34m\u001b[0m\u001b[0m\n\u001b[1;32m      4\u001b[0m \u001b[0;31m#Find best match and apply threshold\u001b[0m\u001b[0;34m\u001b[0m\u001b[0;34m\u001b[0m\u001b[0m\n\u001b[1;32m      5\u001b[0m \u001b[0mbest_idx\u001b[0m \u001b[0;34m=\u001b[0m \u001b[0mnp\u001b[0m\u001b[0;34m.\u001b[0m\u001b[0margmax\u001b[0m\u001b[0;34m(\u001b[0m\u001b[0msimilarities\u001b[0m\u001b[0;34m)\u001b[0m\u001b[0;34m\u001b[0m\u001b[0;34m\u001b[0m\u001b[0m\n",
            "\u001b[0;31mNameError\u001b[0m: name 'query_vec' is not defined"
          ]
        }
      ]
    },
    {
      "cell_type": "code",
      "source": [],
      "metadata": {
        "id": "L2kIGhDNzQ7w"
      },
      "execution_count": null,
      "outputs": []
    }
  ]
}